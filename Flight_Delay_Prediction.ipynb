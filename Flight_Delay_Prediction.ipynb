{
 "cells": [
  {
   "cell_type": "code",
   "execution_count": 156,
   "metadata": {},
   "outputs": [
    {
     "name": "stdout",
     "output_type": "stream",
     "text": [
      "The jupyter_record extension is already loaded. To reload it, use:\n",
      "  %reload_ext jupyter_record\n"
     ]
    }
   ],
   "source": [
    "# do not touch this cell \n",
    "%load_ext jupyter_record\n"
   ]
  },
  {
   "cell_type": "markdown",
   "metadata": {},
   "source": [
    "# Set-up\n",
    "\n",
    "Make sure that you have completed the set-up instuctions in Assignment 0. \n",
    "\n",
    "Every time you create a Jupyter cell in this assignment, it should be annotated with '%%git_commit' at the top. Please do not touch this line of code. If you do not see this line, make sure that you have moved the 'custom.js' file in the right location!\n"
   ]
  },
  {
   "cell_type": "markdown",
   "metadata": {},
   "source": [
    "# Data Preprocessing\n",
    "\n",
    "In this section, you should load your raw training dataset, and create your features for the model. You can find the data here: [shorturl.at/owMPS](https://shorturl.at/owMPS)\n",
    "\n",
    "**IMPORTANT**: Download your data and place it in the \"data\" folder. You may run into errors if you place it anywhere else. You can use pandas to import your data from the csv files.\n",
    "\n",
    "The data files are as following:\n",
    "\n",
    "- training.csv: Seen/training data. Contains raw features and prediction class ('DepDel15').\n",
    "- testing_X.csv: Unseen/testing data. Contains only raw features, and no prediction class. \n",
    "- readme.html: Information about the features. \n",
    "\n"
   ]
  },
  {
   "cell_type": "code",
   "execution_count": 2,
   "metadata": {},
   "outputs": [
    {
     "name": "stdout",
     "output_type": "stream",
     "text": [
      "   Unnamed: 0  FlightDate            Airline Origin Dest  Cancelled  Diverted  \\\n",
      "0           0  2018-01-23  Endeavor Air Inc.    ABY  ATL      False     False   \n",
      "1           1  2018-01-24  Endeavor Air Inc.    ABY  ATL      False     False   \n",
      "2           2  2018-01-25  Endeavor Air Inc.    ABY  ATL      False     False   \n",
      "3           3  2018-01-26  Endeavor Air Inc.    ABY  ATL      False     False   \n",
      "4           4  2018-01-27  Endeavor Air Inc.    ABY  ATL      False     False   \n",
      "\n",
      "   CRSDepTime  CRSElapsedTime  Distance  ...  DestAirportID  DestAirportSeqID  \\\n",
      "0        1202            62.0     145.0  ...          10397           1039707   \n",
      "1        1202            62.0     145.0  ...          10397           1039707   \n",
      "2        1202            62.0     145.0  ...          10397           1039707   \n",
      "3        1202            62.0     145.0  ...          10397           1039707   \n",
      "4        1400            60.0     145.0  ...          10397           1039707   \n",
      "\n",
      "   DestCityMarketID  DestCityName  DestState DestStateFips DestStateName  \\\n",
      "0             30397   Atlanta, GA         GA            13       Georgia   \n",
      "1             30397   Atlanta, GA         GA            13       Georgia   \n",
      "2             30397   Atlanta, GA         GA            13       Georgia   \n",
      "3             30397   Atlanta, GA         GA            13       Georgia   \n",
      "4             30397   Atlanta, GA         GA            13       Georgia   \n",
      "\n",
      "   DestWac DepDel15 CRSArrTime  \n",
      "0       34      0.0       1304  \n",
      "1       34      0.0       1304  \n",
      "2       34      0.0       1304  \n",
      "3       34      0.0       1304  \n",
      "4       34      0.0       1500  \n",
      "\n",
      "[5 rows x 41 columns]\n"
     ]
    }
   ],
   "source": [
    "%%git_commit\n",
    "\n",
    "import numpy as np\n",
    "import pandas as pd\n",
    "import matplotlib.pyplot as plt\n",
    "\n",
    "df = pd.read_csv('data/training.csv')\n",
    "print(df.head())"
   ]
  },
  {
   "cell_type": "code",
   "execution_count": 102,
   "metadata": {},
   "outputs": [
    {
     "data": {
      "text/plain": [
       "PearsonRResult(statistic=0.14732120335774881, pvalue=0.0)"
      ]
     },
     "execution_count": 102,
     "metadata": {},
     "output_type": "execute_result"
    }
   ],
   "source": [
    "%%git_commit\n",
    "df.columns\n",
    "df['smile'] = df['CRSDepTime'] > 1000\n",
    "df['smile2'] = df['CRSArrTime'] > 1600\n",
    "df['smile3'] = df['smile'] | df['smile2']\n",
    "df2 = df.dropna()\n",
    "pearsonr(df2['smile3'],df2['DepDel15'])\n"
   ]
  },
  {
   "cell_type": "code",
   "execution_count": 65,
   "metadata": {},
   "outputs": [
    {
     "data": {
      "text/plain": [
       "0.1849104105940896"
      ]
     },
     "execution_count": 65,
     "metadata": {},
     "output_type": "execute_result"
    }
   ],
   "source": [
    "%%git_commit\n",
    "df['DepDel15'].sum()/len(df)"
   ]
  },
  {
   "cell_type": "code",
   "execution_count": 3,
   "metadata": {},
   "outputs": [
    {
     "data": {
      "text/html": [
       "<div>\n",
       "<style scoped>\n",
       "    .dataframe tbody tr th:only-of-type {\n",
       "        vertical-align: middle;\n",
       "    }\n",
       "\n",
       "    .dataframe tbody tr th {\n",
       "        vertical-align: top;\n",
       "    }\n",
       "\n",
       "    .dataframe thead th {\n",
       "        text-align: right;\n",
       "    }\n",
       "</style>\n",
       "<table border=\"1\" class=\"dataframe\">\n",
       "  <thead>\n",
       "    <tr style=\"text-align: right;\">\n",
       "      <th></th>\n",
       "      <th>ABI</th>\n",
       "      <th>ABQ</th>\n",
       "      <th>ABR</th>\n",
       "      <th>ABY</th>\n",
       "      <th>ACK</th>\n",
       "      <th>ACT</th>\n",
       "      <th>ACV</th>\n",
       "      <th>ACY</th>\n",
       "      <th>ADK</th>\n",
       "      <th>ADQ</th>\n",
       "      <th>...</th>\n",
       "      <th>20436</th>\n",
       "      <th>20445</th>\n",
       "      <th>20452</th>\n",
       "      <th>20500</th>\n",
       "      <th>21167</th>\n",
       "      <th>21171</th>\n",
       "      <th>DepDel15</th>\n",
       "      <th>CRSDepTime</th>\n",
       "      <th>CRSArrTime</th>\n",
       "      <th>CRSElapsedTime</th>\n",
       "    </tr>\n",
       "  </thead>\n",
       "  <tbody>\n",
       "    <tr>\n",
       "      <th>0</th>\n",
       "      <td>0</td>\n",
       "      <td>0</td>\n",
       "      <td>0</td>\n",
       "      <td>1</td>\n",
       "      <td>0</td>\n",
       "      <td>0</td>\n",
       "      <td>0</td>\n",
       "      <td>0</td>\n",
       "      <td>0</td>\n",
       "      <td>0</td>\n",
       "      <td>...</td>\n",
       "      <td>0</td>\n",
       "      <td>0</td>\n",
       "      <td>0</td>\n",
       "      <td>0</td>\n",
       "      <td>0</td>\n",
       "      <td>0</td>\n",
       "      <td>0.0</td>\n",
       "      <td>1202</td>\n",
       "      <td>1304</td>\n",
       "      <td>62.0</td>\n",
       "    </tr>\n",
       "    <tr>\n",
       "      <th>1</th>\n",
       "      <td>0</td>\n",
       "      <td>0</td>\n",
       "      <td>0</td>\n",
       "      <td>1</td>\n",
       "      <td>0</td>\n",
       "      <td>0</td>\n",
       "      <td>0</td>\n",
       "      <td>0</td>\n",
       "      <td>0</td>\n",
       "      <td>0</td>\n",
       "      <td>...</td>\n",
       "      <td>0</td>\n",
       "      <td>0</td>\n",
       "      <td>0</td>\n",
       "      <td>0</td>\n",
       "      <td>0</td>\n",
       "      <td>0</td>\n",
       "      <td>0.0</td>\n",
       "      <td>1202</td>\n",
       "      <td>1304</td>\n",
       "      <td>62.0</td>\n",
       "    </tr>\n",
       "    <tr>\n",
       "      <th>2</th>\n",
       "      <td>0</td>\n",
       "      <td>0</td>\n",
       "      <td>0</td>\n",
       "      <td>1</td>\n",
       "      <td>0</td>\n",
       "      <td>0</td>\n",
       "      <td>0</td>\n",
       "      <td>0</td>\n",
       "      <td>0</td>\n",
       "      <td>0</td>\n",
       "      <td>...</td>\n",
       "      <td>0</td>\n",
       "      <td>0</td>\n",
       "      <td>0</td>\n",
       "      <td>0</td>\n",
       "      <td>0</td>\n",
       "      <td>0</td>\n",
       "      <td>0.0</td>\n",
       "      <td>1202</td>\n",
       "      <td>1304</td>\n",
       "      <td>62.0</td>\n",
       "    </tr>\n",
       "    <tr>\n",
       "      <th>3</th>\n",
       "      <td>0</td>\n",
       "      <td>0</td>\n",
       "      <td>0</td>\n",
       "      <td>1</td>\n",
       "      <td>0</td>\n",
       "      <td>0</td>\n",
       "      <td>0</td>\n",
       "      <td>0</td>\n",
       "      <td>0</td>\n",
       "      <td>0</td>\n",
       "      <td>...</td>\n",
       "      <td>0</td>\n",
       "      <td>0</td>\n",
       "      <td>0</td>\n",
       "      <td>0</td>\n",
       "      <td>0</td>\n",
       "      <td>0</td>\n",
       "      <td>0.0</td>\n",
       "      <td>1202</td>\n",
       "      <td>1304</td>\n",
       "      <td>62.0</td>\n",
       "    </tr>\n",
       "    <tr>\n",
       "      <th>4</th>\n",
       "      <td>0</td>\n",
       "      <td>0</td>\n",
       "      <td>0</td>\n",
       "      <td>1</td>\n",
       "      <td>0</td>\n",
       "      <td>0</td>\n",
       "      <td>0</td>\n",
       "      <td>0</td>\n",
       "      <td>0</td>\n",
       "      <td>0</td>\n",
       "      <td>...</td>\n",
       "      <td>0</td>\n",
       "      <td>0</td>\n",
       "      <td>0</td>\n",
       "      <td>0</td>\n",
       "      <td>0</td>\n",
       "      <td>0</td>\n",
       "      <td>0.0</td>\n",
       "      <td>1400</td>\n",
       "      <td>1500</td>\n",
       "      <td>60.0</td>\n",
       "    </tr>\n",
       "  </tbody>\n",
       "</table>\n",
       "<p>5 rows × 406 columns</p>\n",
       "</div>"
      ],
      "text/plain": [
       "   ABI  ABQ  ABR  ABY  ACK  ACT  ACV  ACY  ADK  ADQ  ...  20436  20445  20452  \\\n",
       "0    0    0    0    1    0    0    0    0    0    0  ...      0      0      0   \n",
       "1    0    0    0    1    0    0    0    0    0    0  ...      0      0      0   \n",
       "2    0    0    0    1    0    0    0    0    0    0  ...      0      0      0   \n",
       "3    0    0    0    1    0    0    0    0    0    0  ...      0      0      0   \n",
       "4    0    0    0    1    0    0    0    0    0    0  ...      0      0      0   \n",
       "\n",
       "   20500  21167  21171  DepDel15  CRSDepTime  CRSArrTime  CRSElapsedTime  \n",
       "0      0      0      0       0.0        1202        1304            62.0  \n",
       "1      0      0      0       0.0        1202        1304            62.0  \n",
       "2      0      0      0       0.0        1202        1304            62.0  \n",
       "3      0      0      0       0.0        1202        1304            62.0  \n",
       "4      0      0      0       0.0        1400        1500            60.0  \n",
       "\n",
       "[5 rows x 406 columns]"
      ]
     },
     "execution_count": 3,
     "metadata": {},
     "output_type": "execute_result"
    }
   ],
   "source": [
    "%%git_commit\n",
    "Origin = pd.get_dummies(df['Origin'],drop_first = True)\n",
    "DayOfWeek = pd.get_dummies(df['DayOfWeek'],drop_first = True)\n",
    "DOT = pd.get_dummies(df['DOT_ID_Operating_Airline'],drop_first = True)\n",
    "\n",
    "new = pd.concat([Origin,DayOfWeek,DOT,df['DepDel15'],df['CRSDepTime'],df['CRSArrTime'],df['CRSElapsedTime']], axis = 1)\n",
    "new.dropna(inplace = True)\n",
    "new.head()\n"
   ]
  },
  {
   "cell_type": "code",
   "execution_count": 52,
   "metadata": {},
   "outputs": [
    {
     "name": "stdout",
     "output_type": "stream",
     "text": [
      "DepDel15      1.000000\n",
      "CRSDepTime    0.169929\n",
      "CRSArrTime    0.143146\n",
      "20409         0.045817\n",
      "20436         0.040410\n",
      "MDW           0.038621\n",
      "19930        -0.030314\n",
      "19690        -0.030358\n",
      "19790        -0.043622\n",
      "Name: DepDel15, dtype: float64\n"
     ]
    }
   ],
   "source": [
    "%%git_commit\n",
    "new2 = new.sample(n = 100000)\n",
    "corr_check = (new2.corr()['DepDel15']).sort_values(ascending = False)\n",
    "corr_check.dropna(inplace = True)\n",
    "print(corr_check[abs(corr_check) > .03])"
   ]
  },
  {
   "cell_type": "code",
   "execution_count": 4,
   "metadata": {},
   "outputs": [
    {
     "name": "stdout",
     "output_type": "stream",
     "text": [
      "(5689512, 41)\n"
     ]
    },
    {
     "data": {
      "text/plain": [
       "PearsonRResult(statistic=-0.06638682858298413, pvalue=0.0)"
      ]
     },
     "execution_count": 4,
     "metadata": {},
     "output_type": "execute_result"
    }
   ],
   "source": [
    "%%git_commit\n",
    "\n",
    "bad = new[20409] | new[20436] | new['MDW']\n",
    "good = new[19930] | new[19690] | new[19790]\n",
    "from scipy.stats import pearsonr\n",
    "print(df.shape)\n",
    "pearsonr(good,new['DepDel15'])\n"
   ]
  },
  {
   "cell_type": "code",
   "execution_count": 7,
   "metadata": {},
   "outputs": [],
   "source": [
    "%%git_commit\n",
    "from sklearn.linear_model import LogisticRegression\n",
    "from sklearn.svm import SVC\n",
    "from sklearn.model_selection import train_test_split\n",
    "from sklearn.metrics import accuracy_score\n",
    "from sklearn.preprocessing import StandardScaler\n",
    "from sklearn.neural_network import MLPClassifier\n",
    "\n"
   ]
  },
  {
   "cell_type": "code",
   "execution_count": 6,
   "metadata": {},
   "outputs": [],
   "source": [
    "%%git_commit\n",
    "new['bad'] = bad\n",
    "new['good'] = good\n",
    "\n",
    "scale= StandardScaler()\n",
    "X = new[['bad','good','CRSDepTime','CRSArrTime']].to_numpy()\n",
    "Y = new['DepDel15'].to_numpy()\n",
    "X = scale.fit_transform(X) \n"
   ]
  },
  {
   "cell_type": "code",
   "execution_count": 175,
   "metadata": {},
   "outputs": [],
   "source": [
    "%%git_commit\n",
    "X2 = new[new['DepDel15'] == 0]\n",
    "X3 = new[new['DepDel15'] == 1]\n",
    "X2 = X2.sample(n = 100000)\n",
    "X3 = X3.sample(n = 37500)\n",
    "X = pd.concat([X2,X3])\n"
   ]
  },
  {
   "cell_type": "code",
   "execution_count": 176,
   "metadata": {},
   "outputs": [],
   "source": [
    "%%git_commit\n",
    "\n",
    "Y = X['DepDel15'].to_numpy()\n",
    "X = X[['bad','good','CRSDepTime','CRSArrTime']].to_numpy()\n",
    "X = scale.fit_transform(X) \n"
   ]
  },
  {
   "cell_type": "code",
   "execution_count": 177,
   "metadata": {},
   "outputs": [],
   "source": [
    "%%git_commit\n",
    "classifier = MLPClassifier(hidden_layer_sizes=(150,100,50), max_iter=300,activation = 'relu',solver='adam',random_state=1)\n",
    "X_train, X_test, Y_train, Y_test = train_test_split(X,Y, test_size=0.33)"
   ]
  },
  {
   "cell_type": "code",
   "execution_count": 179,
   "metadata": {},
   "outputs": [
    {
     "data": {
      "text/html": [
       "<style>#sk-container-id-15 {color: black;background-color: white;}#sk-container-id-15 pre{padding: 0;}#sk-container-id-15 div.sk-toggleable {background-color: white;}#sk-container-id-15 label.sk-toggleable__label {cursor: pointer;display: block;width: 100%;margin-bottom: 0;padding: 0.3em;box-sizing: border-box;text-align: center;}#sk-container-id-15 label.sk-toggleable__label-arrow:before {content: \"▸\";float: left;margin-right: 0.25em;color: #696969;}#sk-container-id-15 label.sk-toggleable__label-arrow:hover:before {color: black;}#sk-container-id-15 div.sk-estimator:hover label.sk-toggleable__label-arrow:before {color: black;}#sk-container-id-15 div.sk-toggleable__content {max-height: 0;max-width: 0;overflow: hidden;text-align: left;background-color: #f0f8ff;}#sk-container-id-15 div.sk-toggleable__content pre {margin: 0.2em;color: black;border-radius: 0.25em;background-color: #f0f8ff;}#sk-container-id-15 input.sk-toggleable__control:checked~div.sk-toggleable__content {max-height: 200px;max-width: 100%;overflow: auto;}#sk-container-id-15 input.sk-toggleable__control:checked~label.sk-toggleable__label-arrow:before {content: \"▾\";}#sk-container-id-15 div.sk-estimator input.sk-toggleable__control:checked~label.sk-toggleable__label {background-color: #d4ebff;}#sk-container-id-15 div.sk-label input.sk-toggleable__control:checked~label.sk-toggleable__label {background-color: #d4ebff;}#sk-container-id-15 input.sk-hidden--visually {border: 0;clip: rect(1px 1px 1px 1px);clip: rect(1px, 1px, 1px, 1px);height: 1px;margin: -1px;overflow: hidden;padding: 0;position: absolute;width: 1px;}#sk-container-id-15 div.sk-estimator {font-family: monospace;background-color: #f0f8ff;border: 1px dotted black;border-radius: 0.25em;box-sizing: border-box;margin-bottom: 0.5em;}#sk-container-id-15 div.sk-estimator:hover {background-color: #d4ebff;}#sk-container-id-15 div.sk-parallel-item::after {content: \"\";width: 100%;border-bottom: 1px solid gray;flex-grow: 1;}#sk-container-id-15 div.sk-label:hover label.sk-toggleable__label {background-color: #d4ebff;}#sk-container-id-15 div.sk-serial::before {content: \"\";position: absolute;border-left: 1px solid gray;box-sizing: border-box;top: 0;bottom: 0;left: 50%;z-index: 0;}#sk-container-id-15 div.sk-serial {display: flex;flex-direction: column;align-items: center;background-color: white;padding-right: 0.2em;padding-left: 0.2em;position: relative;}#sk-container-id-15 div.sk-item {position: relative;z-index: 1;}#sk-container-id-15 div.sk-parallel {display: flex;align-items: stretch;justify-content: center;background-color: white;position: relative;}#sk-container-id-15 div.sk-item::before, #sk-container-id-15 div.sk-parallel-item::before {content: \"\";position: absolute;border-left: 1px solid gray;box-sizing: border-box;top: 0;bottom: 0;left: 50%;z-index: -1;}#sk-container-id-15 div.sk-parallel-item {display: flex;flex-direction: column;z-index: 1;position: relative;background-color: white;}#sk-container-id-15 div.sk-parallel-item:first-child::after {align-self: flex-end;width: 50%;}#sk-container-id-15 div.sk-parallel-item:last-child::after {align-self: flex-start;width: 50%;}#sk-container-id-15 div.sk-parallel-item:only-child::after {width: 0;}#sk-container-id-15 div.sk-dashed-wrapped {border: 1px dashed gray;margin: 0 0.4em 0.5em 0.4em;box-sizing: border-box;padding-bottom: 0.4em;background-color: white;}#sk-container-id-15 div.sk-label label {font-family: monospace;font-weight: bold;display: inline-block;line-height: 1.2em;}#sk-container-id-15 div.sk-label-container {text-align: center;}#sk-container-id-15 div.sk-container {/* jupyter's `normalize.less` sets `[hidden] { display: none; }` but bootstrap.min.css set `[hidden] { display: none !important; }` so we also need the `!important` here to be able to override the default hidden behavior on the sphinx rendered scikit-learn.org. See: https://github.com/scikit-learn/scikit-learn/issues/21755 */display: inline-block !important;position: relative;}#sk-container-id-15 div.sk-text-repr-fallback {display: none;}</style><div id=\"sk-container-id-15\" class=\"sk-top-container\"><div class=\"sk-text-repr-fallback\"><pre>MLPClassifier(hidden_layer_sizes=(150, 100, 50), max_iter=300, random_state=1)</pre><b>In a Jupyter environment, please rerun this cell to show the HTML representation or trust the notebook. <br />On GitHub, the HTML representation is unable to render, please try loading this page with nbviewer.org.</b></div><div class=\"sk-container\" hidden><div class=\"sk-item\"><div class=\"sk-estimator sk-toggleable\"><input class=\"sk-toggleable__control sk-hidden--visually\" id=\"sk-estimator-id-15\" type=\"checkbox\" checked><label for=\"sk-estimator-id-15\" class=\"sk-toggleable__label sk-toggleable__label-arrow\">MLPClassifier</label><div class=\"sk-toggleable__content\"><pre>MLPClassifier(hidden_layer_sizes=(150, 100, 50), max_iter=300, random_state=1)</pre></div></div></div></div></div>"
      ],
      "text/plain": [
       "MLPClassifier(hidden_layer_sizes=(150, 100, 50), max_iter=300, random_state=1)"
      ]
     },
     "execution_count": 179,
     "metadata": {},
     "output_type": "execute_result"
    }
   ],
   "source": [
    "%%git_commit\n",
    "classifier.fit(X_train, Y_train)\n"
   ]
  },
  {
   "cell_type": "code",
   "execution_count": 180,
   "metadata": {},
   "outputs": [],
   "source": [
    "%%git_commit\n",
    "Y_hat = classifier.predict(X_test)"
   ]
  },
  {
   "cell_type": "code",
   "execution_count": 181,
   "metadata": {},
   "outputs": [
    {
     "name": "stdout",
     "output_type": "stream",
     "text": [
      "0.7279118457300275\n"
     ]
    },
    {
     "data": {
      "text/plain": [
       "1068.0"
      ]
     },
     "execution_count": 181,
     "metadata": {},
     "output_type": "execute_result"
    }
   ],
   "source": [
    "%%git_commit\n",
    "print(accuracy_score(Y_test,Y_hat))\n",
    "Y_hat.sum()"
   ]
  },
  {
   "cell_type": "code",
   "execution_count": 169,
   "metadata": {},
   "outputs": [],
   "source": [
    "%%git_commit\n",
    "\n",
    "X_test = new[['bad','good','CRSDepTime','CRSArrTime']].to_numpy()\n",
    "Y_test = new['DepDel15'].to_numpy()"
   ]
  },
  {
   "cell_type": "code",
   "execution_count": 170,
   "metadata": {},
   "outputs": [
    {
     "data": {
      "text/plain": [
       "0.4048709505792593"
      ]
     },
     "execution_count": 170,
     "metadata": {},
     "output_type": "execute_result"
    }
   ],
   "source": [
    "%%git_commit\n",
    "Y_hat = classifier.predict(X_test)\n",
    "accuracy_score(Y_test,Y_hat)"
   ]
  },
  {
   "cell_type": "code",
   "execution_count": 171,
   "metadata": {},
   "outputs": [
    {
     "data": {
      "text/plain": [
       "3861301.0"
      ]
     },
     "execution_count": 171,
     "metadata": {},
     "output_type": "execute_result"
    }
   ],
   "source": [
    "%%git_commit\n",
    "Y_hat.sum()"
   ]
  },
  {
   "cell_type": "code",
   "execution_count": 172,
   "metadata": {},
   "outputs": [],
   "source": [
    "%%git_commit\n",
    "df2 = pd.read_csv('data/testing_X.csv')\n",
    "Origin = pd.get_dummies(df2['Origin'],drop_first = True)\n",
    "DayOfWeek = pd.get_dummies(df2['DayOfWeek'],drop_first = True)\n",
    "DOT = pd.get_dummies(df2['DOT_ID_Operating_Airline'],drop_first = True)\n",
    "\n",
    "new2 = pd.concat([Origin,DayOfWeek,DOT,df2['CRSDepTime'],df2['CRSArrTime'],df2['CRSElapsedTime']], axis = 1)\n",
    "new2.dropna(inplace = True)\n"
   ]
  },
  {
   "cell_type": "code",
   "execution_count": 173,
   "metadata": {},
   "outputs": [],
   "source": [
    "%%git_commit\n",
    "bad = new2[20409] | new2[20436] | new2['MDW']\n",
    "good = new2[19930] | new2[19690] | new2[19790]\n",
    "new2['bad'] = bad\n",
    "new2['good'] = good\n",
    "\n",
    "X_test = new2[['bad','good','CRSDepTime','CRSArrTime']].to_numpy()"
   ]
  },
  {
   "cell_type": "code",
   "execution_count": 174,
   "metadata": {},
   "outputs": [
    {
     "data": {
      "text/plain": [
       "0.6929685591073148"
      ]
     },
     "execution_count": 174,
     "metadata": {},
     "output_type": "execute_result"
    }
   ],
   "source": [
    "%%git_commit\n",
    "Y_hat = classifier.predict(X_test)\n",
    "Y_hat.sum()/len(Y_hat)"
   ]
  },
  {
   "cell_type": "code",
   "execution_count": 83,
   "metadata": {},
   "outputs": [],
   "source": [
    "%%git_commit\n",
    "\n",
    "new2 = new.sample(n = 10000)\n",
    "\n",
    "\n",
    "\n",
    "\n",
    "\n",
    "model = LogisticRegression()\n",
    "model.fit(X_train,Y_train)\n",
    "\n",
    "Y_hat = model.predict(X_test)"
   ]
  },
  {
   "cell_type": "code",
   "execution_count": 87,
   "metadata": {},
   "outputs": [
    {
     "name": "stdout",
     "output_type": "stream",
     "text": [
      "1.0\n",
      "0.8121352019072261\n"
     ]
    },
    {
     "data": {
      "text/plain": [
       "0.8121352019072261"
      ]
     },
     "execution_count": 87,
     "metadata": {},
     "output_type": "execute_result"
    }
   ],
   "source": [
    "%%git_commit\n",
    "print(Y_train.max())\n",
    "Y_hat.max()\n",
    "accuracy_score(Y_test,Y_hat)\n"
   ]
  },
  {
   "cell_type": "code",
   "execution_count": 17,
   "metadata": {},
   "outputs": [],
   "source": [
    "%%git_commit\n",
    "new.dropna(inplace = True)\n",
    "\n",
    "# testing.dropna(inplace = True)\n",
    "new2 = new.sample(n = 1000)\n",
    "X = new2[['CRSDepTime','CRSArrTime','Southwest Airlines Co.','JetBlue Airways','Frontier Airlines Inc.','MDW','Alaska Airlines Inc.','Hawaiian Airlines Inc.','Delta Air Lines Inc.']].to_numpy()\n",
    "Y = new2['DepDel15'].to_numpy()\n",
    "\n",
    "from sklearn.linear_model import LogisticRegression\n",
    "from sklearn.svm import SVC\n",
    "from sklearn.model_selection import train_test_split\n",
    "from sklearn.metrics import accuracy_score\n",
    "X_train, X_test, Y_train, Y_test = train_test_split(X,Y, test_size=0.33)\n",
    "\n",
    "model = SVC()\n",
    "model.fit(X_train,Y_train)\n",
    "\n",
    "Y_hat = model.predict(X_test)"
   ]
  },
  {
   "cell_type": "code",
   "execution_count": 19,
   "metadata": {},
   "outputs": [
    {
     "data": {
      "text/plain": [
       "0.0"
      ]
     },
     "execution_count": 19,
     "metadata": {},
     "output_type": "execute_result"
    }
   ],
   "source": [
    "%%git_commit\n",
    "Y_hat.sum()-Y_test.sum()"
   ]
  },
  {
   "cell_type": "code",
   "execution_count": null,
   "metadata": {},
   "outputs": [],
   "source": [
    "%%git_commit\n",
    "print(df.columns)\n",
    "filtered = df.select_dtypes(include='number') \n",
    "filtered.drop(columns = \"Year\",inplace = True)\n",
    "# filtered.columns\n",
    "filtered['Delay'] = filtered['CRSElapsedTime'] - (filtered['CRSArrTime'] - filtered['CRSArrTime'])\n",
    "filtered.corr()"
   ]
  },
  {
   "cell_type": "code",
   "execution_count": null,
   "metadata": {},
   "outputs": [],
   "source": [
    "%%git_commit\n",
    "from sklearn.preprocessing import OneHotEncoder\n",
    "\n",
    "ohe_airports = df['OriginAirportID'].to_numpy()\n",
    "ohe = OneHotEncoder(sparse=False)\n",
    "\n",
    "ohe_airports = ohe.fit_transform(ohe_airports.reshape(-1,1))\n",
    "print(ohe_airports)\n",
    "print(ohe_airports[0])"
   ]
  },
  {
   "cell_type": "markdown",
   "metadata": {},
   "source": [
    "# Model Prediction\n",
    "\n",
    "In this section, you should import relevant modeling/scikit-learn libraries and create a prediction model from your features. You should carefuly evaluate how your model performs based on the data you already have.\n",
    "\n",
    "**Hint**: We are using a real world dataset with low correlation between the raw features and prediction class. You may have to carefully think about how to hand-engineer features from the raw features to capture correlation using a machine learning model.\n",
    "\n",
    "\n",
    "**Hint 2**: When the instructors ran this assignment, we achieved an accuracy of 0.74 and AUC score of 0.54 on held out data. We do not expect high accuracy for this task, but your goal is to create a prediction model that is better than the simplest baseline - i.e. a model that predictions the majority class for all samples.\n"
   ]
  },
  {
   "cell_type": "code",
   "execution_count": null,
   "metadata": {},
   "outputs": [],
   "source": [
    "%%git_commit\n",
    "df.dropna(inplace = True)\n",
    "result = df.select_dtypes(include='number')\n",
    "\n",
    "print(result.head())\n",
    "cr = result.corr()\n",
    "cr = cr[abs(cr[\"DepDel15\"]) > .02]\n",
    "print(cr)\n",
    "\n",
    "X = result[['CRSDepTime','CRSArrTime','OriginAirportID']].to_numpy()\n",
    "Y = result['DepDel15'].to_numpy()\n",
    "\n",
    "from sklearn.svm import SVC\n",
    "from sklearn.model_selection import train_test_split\n",
    "from sklearn.metrics import accuracy_score\n"
   ]
  },
  {
   "cell_type": "code",
   "execution_count": null,
   "metadata": {},
   "outputs": [],
   "source": [
    "%%git_commit\n",
    "print(X)"
   ]
  },
  {
   "cell_type": "code",
   "execution_count": null,
   "metadata": {},
   "outputs": [],
   "source": [
    "%%git_commit\n",
    "from sklearn.linear_model import LogisticRegression\n",
    "\n",
    "X_train, X_test, Y_train, Y_test = train_test_split(X,Y, test_size=0.33)\n",
    "\n",
    "print(len(X_train))\n",
    "model = LogisticRegression()\n",
    "model.fit(X_train,Y_train)\n",
    "\n",
    "Y_hat = model.predict(X_train)\n"
   ]
  },
  {
   "cell_type": "code",
   "execution_count": null,
   "metadata": {},
   "outputs": [],
   "source": [
    "%%git_commit\n",
    "# (sum(Y_test) - sum(Y_hat))/len(Y_test[Y_test == 1])\n",
    "print(len(Y_train[Y_train == 0]))\n",
    "len(Y_train[Y_train == 1])/(len(Y_train[Y_train == 1]) + len(Y_train[Y_train == 0]))\n"
   ]
  },
  {
   "cell_type": "markdown",
   "metadata": {},
   "source": [
    "# Final Evaluation\n",
    "\n",
    "In this section, you should use your prediction model on held out data. For each sample in 'testing_X.csv', generate a binary prediction on whether the flight will be delayed by 15min or more.\n",
    "\n",
    "**Important**: Create a csv file named that is a list of your predictions. It should be named './data/[CNET_ID]_final_assignment.csv' file, and contain only one row and columns equal to the sample size. \n",
    "\n",
    "**IMPORTANT**: Make sure that you create the new file in the \"data\" folder. You may run into errors if you place it anywhere else. \n",
    "\n",
    "Upload the '.csv' file here: [shorturl.at/aox05](https://shorturl.at/aox05)\n",
    "\n",
    "This is your submission for the project! A part of your assessment will be on performance on this unseen dataset, and whether you can do better than majority class prediction. \n",
    "\n",
    "Note that you do not have true classification labels on this dataset.\n"
   ]
  },
  {
   "cell_type": "code",
   "execution_count": null,
   "metadata": {},
   "outputs": [],
   "source": [
    "%%git_commit\n",
    "df2 = pd.read_csv('data/testing_X.csv')\n",
    "df2.head()\n"
   ]
  },
  {
   "cell_type": "code",
   "execution_count": null,
   "metadata": {},
   "outputs": [],
   "source": [
    "%%git_commit\n"
   ]
  }
 ],
 "metadata": {
  "kernelspec": {
   "display_name": "Python 3 (ipykernel)",
   "language": "python",
   "name": "python3"
  },
  "language_info": {
   "codemirror_mode": {
    "name": "ipython",
    "version": 3
   },
   "file_extension": ".py",
   "mimetype": "text/x-python",
   "name": "python",
   "nbconvert_exporter": "python",
   "pygments_lexer": "ipython3",
   "version": "3.9.6"
  }
 },
 "nbformat": 4,
 "nbformat_minor": 4
}
