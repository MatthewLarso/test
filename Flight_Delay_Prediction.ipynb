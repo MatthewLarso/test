{
 "cells": [
  {
   "cell_type": "code",
   "execution_count": 1,
   "metadata": {},
   "outputs": [],
   "source": [
    "# do not touch this cell \n",
    "%load_ext jupyter_record\n"
   ]
  },
  {
   "cell_type": "markdown",
   "metadata": {},
   "source": [
    "# Set-up\n",
    "\n",
    "Make sure that you have completed the set-up instuctions in Assignment 0. \n",
    "\n",
    "Every time you create a Jupyter cell in this assignment, it should be annotated with '%%git_commit' at the top. Please do not touch this line of code. If you do not see this line, make sure that you have moved the 'custom.js' file in the right location!\n"
   ]
  },
  {
   "cell_type": "markdown",
   "metadata": {},
   "source": [
    "# Data Preprocessing\n",
    "\n",
    "In this section, you should load your raw training dataset, and create your features for the model. You can find the data here: [shorturl.at/owMPS](https://shorturl.at/owMPS)\n",
    "\n",
    "**IMPORTANT**: Download your data and place it in the \"data\" folder. You may run into errors if you place it anywhere else. You can use pandas to import your data from the csv files.\n",
    "\n",
    "The data files are as following:\n",
    "\n",
    "- training.csv: Seen/training data. Contains raw features and prediction class ('DepDel15').\n",
    "- testing_X.csv: Unseen/testing data. Contains only raw features, and no prediction class. \n",
    "- readme.html: Information about the features. \n",
    "\n"
   ]
  },
  {
   "cell_type": "code",
   "execution_count": 2,
   "metadata": {},
   "outputs": [
    {
     "name": "stdout",
     "output_type": "stream",
     "text": [
      "   Unnamed: 0  FlightDate            Airline Origin Dest  Cancelled  Diverted  \\\n",
      "0           0  2018-01-23  Endeavor Air Inc.    ABY  ATL      False     False   \n",
      "1           1  2018-01-24  Endeavor Air Inc.    ABY  ATL      False     False   \n",
      "2           2  2018-01-25  Endeavor Air Inc.    ABY  ATL      False     False   \n",
      "3           3  2018-01-26  Endeavor Air Inc.    ABY  ATL      False     False   \n",
      "4           4  2018-01-27  Endeavor Air Inc.    ABY  ATL      False     False   \n",
      "\n",
      "   CRSDepTime  CRSElapsedTime  Distance  ...  DestAirportID  DestAirportSeqID  \\\n",
      "0        1202            62.0     145.0  ...          10397           1039707   \n",
      "1        1202            62.0     145.0  ...          10397           1039707   \n",
      "2        1202            62.0     145.0  ...          10397           1039707   \n",
      "3        1202            62.0     145.0  ...          10397           1039707   \n",
      "4        1400            60.0     145.0  ...          10397           1039707   \n",
      "\n",
      "   DestCityMarketID  DestCityName  DestState DestStateFips DestStateName  \\\n",
      "0             30397   Atlanta, GA         GA            13       Georgia   \n",
      "1             30397   Atlanta, GA         GA            13       Georgia   \n",
      "2             30397   Atlanta, GA         GA            13       Georgia   \n",
      "3             30397   Atlanta, GA         GA            13       Georgia   \n",
      "4             30397   Atlanta, GA         GA            13       Georgia   \n",
      "\n",
      "   DestWac DepDel15 CRSArrTime  \n",
      "0       34      0.0       1304  \n",
      "1       34      0.0       1304  \n",
      "2       34      0.0       1304  \n",
      "3       34      0.0       1304  \n",
      "4       34      0.0       1500  \n",
      "\n",
      "[5 rows x 41 columns]\n"
     ]
    }
   ],
   "source": [
    "%%git_commit\n",
    "\n",
    "import numpy as np\n",
    "import pandas as pd\n",
    "import matplotlib.pyplot as plt\n",
    "\n",
    "df = pd.read_csv('data/training.csv')\n",
    "print(df.head())"
   ]
  },
  {
   "cell_type": "markdown",
   "metadata": {},
   "source": [
    "# Model Prediction\n",
    "\n",
    "In this section, you should import relevant modeling/scikit-learn libraries and create a prediction model from your features. You should carefuly evaluate how your model performs based on the data you already have.\n",
    "\n",
    "**Hint**: We are using a real world dataset with low correlation between the raw features and prediction class. You may have to carefully think about how to hand-engineer features from the raw features to capture correlation using a machine learning model.\n",
    "\n",
    "\n",
    "**Hint 2**: When the instructors ran this assignment, we achieved an accuracy of 0.74 and AUC score of 0.54 on held out data. We do not expect high accuracy for this task, but your goal is to create a prediction model that is better than the simplest baseline - i.e. a model that predictions the majority class for all samples.\n"
   ]
  },
  {
   "cell_type": "code",
   "execution_count": 9,
   "metadata": {},
   "outputs": [
    {
     "name": "stdout",
     "output_type": "stream",
     "text": [
      "   Unnamed: 0  CRSDepTime  CRSElapsedTime  Distance  Year  Quarter  Month  \\\n",
      "0           0        1202            62.0     145.0  2018        1      1   \n",
      "1           1        1202            62.0     145.0  2018        1      1   \n",
      "2           2        1202            62.0     145.0  2018        1      1   \n",
      "3           3        1202            62.0     145.0  2018        1      1   \n",
      "4           4        1400            60.0     145.0  2018        1      1   \n",
      "\n",
      "   DayofMonth  DayOfWeek  DOT_ID_Marketing_Airline  ...  OriginCityMarketID  \\\n",
      "0          23          2                     19790  ...               30146   \n",
      "1          24          3                     19790  ...               30146   \n",
      "2          25          4                     19790  ...               30146   \n",
      "3          26          5                     19790  ...               30146   \n",
      "4          27          6                     19790  ...               30146   \n",
      "\n",
      "   OriginStateFips  OriginWac  DestAirportID  DestAirportSeqID  \\\n",
      "0               13         34          10397           1039707   \n",
      "1               13         34          10397           1039707   \n",
      "2               13         34          10397           1039707   \n",
      "3               13         34          10397           1039707   \n",
      "4               13         34          10397           1039707   \n",
      "\n",
      "   DestCityMarketID  DestStateFips  DestWac  DepDel15  CRSArrTime  \n",
      "0             30397             13       34       0.0        1304  \n",
      "1             30397             13       34       0.0        1304  \n",
      "2             30397             13       34       0.0        1304  \n",
      "3             30397             13       34       0.0        1304  \n",
      "4             30397             13       34       0.0        1500  \n",
      "\n",
      "[5 rows x 23 columns]\n"
     ]
    },
    {
     "name": "stderr",
     "output_type": "stream",
     "text": [
      "/var/folders/0_/qzbnbnbs67sfl9l1gk_xy9qr0000gn/T/ipykernel_3272/4046197561.py:5: FutureWarning: The default value of numeric_only in DataFrame.corr is deprecated. In a future version, it will default to False. Select only valid columns or specify the value of numeric_only to silence this warning.\n",
      "  cr = df.corr()\n"
     ]
    },
    {
     "name": "stdout",
     "output_type": "stream",
     "text": [
      "            Unnamed: 0  Cancelled  Diverted  CRSDepTime  CRSElapsedTime  \\\n",
      "Unnamed: 0    1.000000   0.002335  0.005062    0.002603       -0.000369   \n",
      "CRSDepTime    0.002603   0.005323  0.000099    1.000000       -0.018113   \n",
      "DepDel15      0.025902   0.019524  0.017706    0.172097        0.013892   \n",
      "CRSArrTime   -0.010884   0.003573  0.004930    0.684092        0.023671   \n",
      "\n",
      "            Distance  Year   Quarter     Month  DayofMonth  ...  \\\n",
      "Unnamed: 0  0.015777   NaN -0.109568 -0.003606   -0.001773  ...   \n",
      "CRSDepTime -0.010256   NaN -0.004631 -0.004569   -0.000125  ...   \n",
      "DepDel15    0.012557   NaN -0.019862 -0.018527   -0.004709  ...   \n",
      "CRSArrTime  0.018664   NaN  0.005901  0.005352   -0.001685  ...   \n",
      "\n",
      "            OriginCityMarketID  OriginStateFips  OriginWac  DestAirportID  \\\n",
      "Unnamed: 0           -0.004169         0.001619   0.009182       0.005452   \n",
      "CRSDepTime           -0.047597        -0.024678  -0.007698       0.021534   \n",
      "DepDel15             -0.017602        -0.004494  -0.009919       0.004177   \n",
      "CRSArrTime           -0.044985        -0.016343   0.007901       0.013051   \n",
      "\n",
      "            DestAirportSeqID  DestCityMarketID  DestStateFips   DestWac  \\\n",
      "Unnamed: 0          0.005452         -0.004222       0.001601  0.009093   \n",
      "CRSDepTime          0.021533          0.056129       0.019163  0.022089   \n",
      "DepDel15            0.004176          0.004735       0.004843 -0.016345   \n",
      "CRSArrTime          0.013050          0.041247       0.016110  0.021581   \n",
      "\n",
      "            DepDel15  CRSArrTime  \n",
      "Unnamed: 0  0.025902   -0.010884  \n",
      "CRSDepTime  0.172097    0.684092  \n",
      "DepDel15    1.000000    0.138122  \n",
      "CRSArrTime  0.138122    1.000000  \n",
      "\n",
      "[4 rows x 25 columns]\n",
      "(5602912, 41)\n"
     ]
    }
   ],
   "source": [
    "%%git_commit\n",
    "df.dropna(inplace = True)\n",
    "result = df.select_dtypes(include='number')\n",
    "\n",
    "print(result.head())\n",
    "cr = df.corr()\n",
    "cr = cr[abs(cr[\"DepDel15\"]) > .02]\n",
    "print(cr)\n",
    "\n",
    "X = result[['CRSDepTime','CRSArrTime']].to_numpy()\n",
    "Y = result['DepDel15'].to_numpy()\n",
    "\n",
    "from sklearn.svm import SVC\n",
    "from sklearn.model_selection import train_test_split\n",
    "from sklearn.metrics import accuracy_score\n",
    "print(df.shape)"
   ]
  },
  {
   "cell_type": "code",
   "execution_count": null,
   "metadata": {},
   "outputs": [],
   "source": [
    "%%git_commit\n",
    "print(X)"
   ]
  },
  {
   "cell_type": "code",
   "execution_count": 4,
   "metadata": {},
   "outputs": [
    {
     "name": "stdout",
     "output_type": "stream",
     "text": [
      "3753963\n"
     ]
    }
   ],
   "source": [
    "%%git_commit\n",
    "from sklearn.linear_model import LogisticRegression\n",
    "\n",
    "X_train, X_test, Y_train, Y_test = train_test_split(X,Y, test_size=0.33)\n",
    "\n",
    "print(len(X_train))\n",
    "model = LogisticRegression()\n",
    "model.fit(X_train,Y_train)\n",
    "\n",
    "Y_hat = model.predict(X_train)\n"
   ]
  },
  {
   "cell_type": "code",
   "execution_count": 6,
   "metadata": {},
   "outputs": [
    {
     "data": {
      "text/plain": [
       "array([0., 0., 0., ..., 0., 0., 0.])"
      ]
     },
     "execution_count": 6,
     "metadata": {},
     "output_type": "execute_result"
    }
   ],
   "source": [
    "%%git_commit\n",
    "# (sum(Y_test) - sum(Y_hat))/len(Y_test[Y_test == 1])\n",
    "\n",
    "Y_hat\n"
   ]
  },
  {
   "cell_type": "markdown",
   "metadata": {},
   "source": [
    "# Final Evaluation\n",
    "\n",
    "In this section, you should use your prediction model on held out data. For each sample in 'testing_X.csv', generate a binary prediction on whether the flight will be delayed by 15min or more.\n",
    "\n",
    "**Important**: Create a csv file named that is a list of your predictions. It should be named './data/[CNET_ID]_final_assignment.csv' file, and contain only one row and columns equal to the sample size. \n",
    "\n",
    "**IMPORTANT**: Make sure that you create the new file in the \"data\" folder. You may run into errors if you place it anywhere else. \n",
    "\n",
    "Upload the '.csv' file here: [shorturl.at/aox05](https://shorturl.at/aox05)\n",
    "\n",
    "This is your submission for the project! A part of your assessment will be on performance on this unseen dataset, and whether you can do better than majority class prediction. \n",
    "\n",
    "Note that you do not have true classification labels on this dataset.\n"
   ]
  },
  {
   "cell_type": "code",
   "execution_count": null,
   "metadata": {},
   "outputs": [],
   "source": [
    "%%git_commit\n",
    "df2 = pd.read_csv('data/testing_X.csv')\n",
    "df2.head()\n"
   ]
  },
  {
   "cell_type": "code",
   "execution_count": null,
   "metadata": {},
   "outputs": [],
   "source": [
    "%%git_commit\n"
   ]
  }
 ],
 "metadata": {
  "kernelspec": {
   "display_name": "Python 3 (ipykernel)",
   "language": "python",
   "name": "python3"
  },
  "language_info": {
   "codemirror_mode": {
    "name": "ipython",
    "version": 3
   },
   "file_extension": ".py",
   "mimetype": "text/x-python",
   "name": "python",
   "nbconvert_exporter": "python",
   "pygments_lexer": "ipython3",
   "version": "3.9.6"
  }
 },
 "nbformat": 4,
 "nbformat_minor": 4
}
